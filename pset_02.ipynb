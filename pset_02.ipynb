{
 "cells": [
  {
   "cell_type": "code",
   "execution_count": 27,
   "metadata": {},
   "outputs": [],
   "source": [
    "import pandas as pd\n",
    "import numpy as npy\n",
    "import xlrd\n",
    "import re\n",
    "import hashlib\n",
    "import sys\n",
    "\n",
    "base_dir = '/Users/adcxdpf/pset_utils-rajeshkaveti-master/'\n",
    "\n",
    "def load_words(filename):\n",
    "    with open(filename, \"r\") as fd:\n",
    "        lines = fd.read().splitlines()\n",
    "    return lines\n",
    "\n",
    "def load_data(filename):\n",
    "    data = pd.read_excel(filename,0)\n",
    "    return data\n",
    "\n",
    "\n",
    "def load_vectors(filename):\n",
    "    vector = npy.load(filename)\n",
    "    return vector\n",
    "\n",
    "def tokenize(text):\n",
    "    # Get all \"words\", including contractions\n",
    "    # eg tokenize(\"Hello, I'm Scott\") --> ['Hello', \"I'm\", \"Scott\"]\n",
    "    return re.findall(\"\\w[\\w']+\", text)\n",
    "\n",
    "def cosine_similarity(a, b):\n",
    "# \t\"\"\"Takes 2 vectors a, b and returns the cosine similarity according \n",
    "# \tto the definition of the dot product\n",
    "# \t\"\"\"\n",
    "# \tdot_product = npy.dot(a, b)\n",
    "# \tnorm_a = npy.linalg.norm(a)\n",
    "# \tnorm_b = npy.linalg.norm(b)\n",
    "# \treturn dot_product / (norm_a * norm_b)\n",
    "\n",
    "\n",
    "    dot_product = npy.dot(a[0], b.T)\n",
    "    print(dot_product)\n",
    "    norm_a = npy.linalg.norm(a)\n",
    "    norm_b = npy.linalg.norm(b)\n",
    "    print(norm_a)\n",
    "    print(norm_b)\n",
    "    print((norm_a * norm_b))\n",
    "    return dot_product / (norm_a * norm_b)\n",
    "\n",
    "def my_distance(vec):\n",
    "    return 1 - cosine_similarity(vec, my_vec.values[0][0])\n",
    " "
   ]
  },
  {
   "cell_type": "code",
   "execution_count": 28,
   "metadata": {},
   "outputs": [],
   "source": [
    "class WordEmbedding(object):\n",
    "    \n",
    "    def __init__(self, words, vector):\n",
    "       self.words=words\n",
    "       self.vector=vector\n",
    "\n",
    "    def __call__(self, word):\n",
    "        \"\"\"Embed a word\n",
    "\n",
    "        :returns: vector, or None if the word is outside of the vocabulary\n",
    "        :rtype: ndarray\n",
    "        \"\"\"\n",
    "        try:\n",
    "            #print(\"Inside call function ***\" , word)\n",
    "            wordIndex=self.words.index(word.lower())\n",
    "            #print(wordIndex)\n",
    "            #print(self.vector[wordIndex])\n",
    "            return self.vector[wordIndex]\n",
    "        except ValueError:\n",
    "            return None\n",
    "        \n",
    "    \n",
    "        # Consider how you implement the vocab lookup.  It should be O(1).\n",
    "        \n",
    "\n",
    "    @classmethod\n",
    "    def from_files(cls, word_file, vec_file):\n",
    "        \"\"\"Instanciate an embedding from files\n",
    "\n",
    "        Example::\n",
    "\n",
    "            embedding = WordEmbedding.from_files('words.txt', 'vecs.npy.gz')\n",
    "\n",
    "        :rtype: cls\n",
    "        \"\"\"\n",
    "        return cls(load_words(word_file), load_vectors(vec_file))\n",
    "    \n",
    "           \n",
    "    def embed_document(self, text):\n",
    "        \n",
    "        words = tokenize(text)\n",
    "        sent_vec = npy.zeros((1 , 300))\n",
    "        for w in words:\n",
    "            try:\n",
    "                vc = embedding(w)\n",
    "#                 print(vc[0])\n",
    "                sent_vec = npy.add(sent_vec, vc) \n",
    "#                 print(sent_vec[0][0])\n",
    "            except:\n",
    "                pass\n",
    "        #print(sent_vec)\n",
    "        return sent_vec"
   ]
  },
  {
   "cell_type": "code",
   "execution_count": 29,
   "metadata": {},
   "outputs": [
    {
     "data": {
      "text/plain": [
       "(1, 300)"
      ]
     },
     "execution_count": 29,
     "metadata": {},
     "output_type": "execute_result"
    }
   ],
   "source": [
    "words=load_words(base_dir + \"words.txt\")\n",
    "vector = load_vectors(base_dir + \"vectors.npy.gz\")\n",
    "data = load_data(base_dir + \"hashed.xlsx\")\n",
    "data.set_index('hashed_id')\n",
    "\n",
    "wordEmbedding = WordEmbedding.from_files(base_dir + \"words.txt\",base_dir + \"vectors.npy.gz\")\n",
    "myvec=wordEmbedding.embed_document(\"The flushing light actor\")\n",
    "myvec.shape\n",
    "#myvec"
   ]
  },
  {
   "cell_type": "code",
   "execution_count": 30,
   "metadata": {},
   "outputs": [
    {
     "data": {
      "text/plain": [
       "1"
      ]
     },
     "execution_count": 30,
     "metadata": {},
     "output_type": "execute_result"
    }
   ],
   "source": [
    "embedding = WordEmbedding(words,vector)\n",
    "#a = embedding.embed_document('Get fluent with Python and understand advanced topics.')\n",
    "a = embedding.embed_document('Get fluent with')\n",
    "a.ravel().ndim\n"
   ]
  },
  {
   "cell_type": "code",
   "execution_count": 31,
   "metadata": {},
   "outputs": [
    {
     "data": {
      "text/plain": [
       "'Get fluent with Python and understand advanced topics.'"
      ]
     },
     "execution_count": 31,
     "metadata": {},
     "output_type": "execute_result"
    }
   ],
   "source": [
    "data['learn'][28]"
   ]
  },
  {
   "cell_type": "code",
   "execution_count": 32,
   "metadata": {},
   "outputs": [],
   "source": [
    "a = embedding.embed_document(data['project'][28])\n",
    "# a"
   ]
  },
  {
   "cell_type": "code",
   "execution_count": 33,
   "metadata": {},
   "outputs": [],
   "source": [
    "data['learn'] = data['learn'].fillna(value='ZERO')\n",
    "data['project'] = data['project'].fillna(value='ZERO')\n"
   ]
  },
  {
   "cell_type": "code",
   "execution_count": 34,
   "metadata": {},
   "outputs": [
    {
     "data": {
      "text/plain": [
       "(45,)"
      ]
     },
     "execution_count": 34,
     "metadata": {},
     "output_type": "execute_result"
    }
   ],
   "source": [
    "learnvecs = data['learn'].apply(embedding.embed_document) \n",
    "#learnvecs = embedding.embed_document(data['learn'][3])\n",
    "learnvecs = learnvecs.ravel()\n",
    "learnvecs.shape\n"
   ]
  },
  {
   "cell_type": "code",
   "execution_count": 35,
   "metadata": {},
   "outputs": [
    {
     "data": {
      "text/plain": [
       "(45,)"
      ]
     },
     "execution_count": 35,
     "metadata": {},
     "output_type": "execute_result"
    }
   ],
   "source": [
    "projvecs = data['project'].apply(embedding.embed_document)\n",
    "projvecs = projvecs.ravel()\n",
    "projvecs.shape"
   ]
  },
  {
   "cell_type": "code",
   "execution_count": 36,
   "metadata": {},
   "outputs": [
    {
     "data": {
      "text/plain": [
       "1"
      ]
     },
     "execution_count": 36,
     "metadata": {},
     "output_type": "execute_result"
    }
   ],
   "source": [
    "projvecs.ndim"
   ]
  },
  {
   "cell_type": "code",
   "execution_count": 37,
   "metadata": {},
   "outputs": [
    {
     "name": "stdout",
     "output_type": "stream",
     "text": [
      "(45,)\n",
      "(45,)\n"
     ]
    }
   ],
   "source": [
    "print (learnvecs.shape)\n",
    "print (projvecs.shape)"
   ]
  },
  {
   "cell_type": "code",
   "execution_count": 38,
   "metadata": {},
   "outputs": [],
   "source": [
    "vecs = learnvecs + projvecs\n",
    "\n",
    "#vecs = npy.c_[learnvecs , projvecs]\n",
    "\n",
    "#vecs[0].shape"
   ]
  },
  {
   "cell_type": "code",
   "execution_count": 39,
   "metadata": {},
   "outputs": [
    {
     "name": "stdout",
     "output_type": "stream",
     "text": [
      "<class 'numpy.ndarray'>\n"
     ]
    }
   ],
   "source": [
    "print(type(vecs))\n",
    "\n",
    "vecs_list = pd.Series(vecs)\n",
    "# print(type(vecs_list))\n",
    "# print(vecs_list.ndim)\n",
    "#print(vecs_list.values)\n",
    "# print(vecs_list[2].shape)\n",
    "a=[v for v in vecs[0]]\n",
    "# a"
   ]
  },
  {
   "cell_type": "code",
   "execution_count": 40,
   "metadata": {},
   "outputs": [
    {
     "data": {
      "text/plain": [
       "pandas.core.series.Series"
      ]
     },
     "execution_count": 40,
     "metadata": {},
     "output_type": "execute_result"
    }
   ],
   "source": [
    "df = pd.DataFrame(vecs, index=vecs_list.index)\n",
    "df.columns = ['vectors']\n",
    "type(df['vectors'])"
   ]
  },
  {
   "cell_type": "code",
   "execution_count": 41,
   "metadata": {},
   "outputs": [
    {
     "name": "stdout",
     "output_type": "stream",
     "text": [
      "[28]\n"
     ]
    },
    {
     "data": {
      "text/plain": [
       "(1, 1)"
      ]
     },
     "execution_count": 41,
     "metadata": {},
     "output_type": "execute_result"
    }
   ],
   "source": [
    "vectors = df\n",
    "\n",
    "idx = data.index[data['hashed_id']== 'b280302a']\n",
    "print (idx.values)\n",
    "\n",
    "\n",
    "my_vec = vectors.loc[idx.values]\n",
    "my_vec.shape\n"
   ]
  },
  {
   "cell_type": "code",
   "execution_count": 42,
   "metadata": {},
   "outputs": [
    {
     "name": "stdout",
     "output_type": "stream",
     "text": [
      "Int64Index([2], dtype='int64')\n"
     ]
    },
    {
     "data": {
      "text/plain": [
       "array([[ -4.60439120e+00,   2.63486217e+01,  -3.77022124e+01,\n",
       "          1.07182500e+01,   8.62384032e+00,   2.97469240e+01,\n",
       "         -7.74944564e+00,  -1.75329659e+01,   1.70392352e+01,\n",
       "          5.27233112e+02,  -5.70193966e+01,   3.61022014e+00,\n",
       "          1.99347030e+01,  -9.08192839e+00,  -2.14261649e+01,\n",
       "          2.73125843e-01,  -2.19200696e+01,   3.53886419e+02,\n",
       "         -4.54392809e+01,  -2.11332456e+01,  -6.85949741e+00,\n",
       "         -5.62413281e+00,  -2.69154515e+01,  -3.08587638e+00,\n",
       "         -3.67116258e+00,   1.75038795e+01,   2.24023984e+00,\n",
       "         -2.31729398e+01,   1.39284462e+01,  -1.83976360e+01,\n",
       "         -2.19916281e+01,   1.60392696e+01,   1.87315770e+01,\n",
       "          1.04661118e+01,   1.07239261e+01,  -1.83931308e+01,\n",
       "         -6.26317229e+00,   1.74517630e+01,  -2.06584687e+01,\n",
       "         -2.77358254e+01,  -7.92403809e+00,   2.12217080e+01,\n",
       "         -1.13202662e+01,  -1.96548839e+01,  -7.37028655e+00,\n",
       "          3.09344810e+01,  -3.20193152e+00,  -3.22261810e+00,\n",
       "         -1.09786949e+00,  -2.76742502e+00,  -1.45155171e+01,\n",
       "          1.57818009e+00,  -6.76777242e+00,  -7.69584428e+00,\n",
       "          1.18237616e+01,  -3.89695457e+00,  -1.05395791e+01,\n",
       "         -3.26522463e+01,   2.09951554e-01,  -2.62018478e+01,\n",
       "          1.77816946e+00,  -1.02734046e+00,  -2.37313482e+01,\n",
       "          4.18990866e+01,   4.72091982e+01,  -1.12706332e+01,\n",
       "         -9.79170017e+00,   2.82385600e+01,   3.98575720e+01,\n",
       "          2.60046152e+01,   2.38123847e+01,   1.62233761e+01,\n",
       "          5.81455795e+01,  -2.55740185e+01,   3.20430948e+01,\n",
       "          1.95911246e+01,   1.78270438e+01,  -2.65384723e+01,\n",
       "         -1.55865969e+01,   5.98039564e+01,  -2.72881928e+00,\n",
       "          5.21891401e+00,  -2.01981048e+01,  -1.81999177e+01,\n",
       "          1.20073299e+01,  -4.16754734e+01,  -4.69016091e+01,\n",
       "         -2.25705835e+01,   6.79233659e+01,   2.31229820e-01,\n",
       "         -4.81883604e+01,   6.13459169e+00,  -2.71027593e+01,\n",
       "          8.98097133e+00,   3.16219900e+01,  -2.97748645e+00,\n",
       "          6.75790134e+00,   8.47033795e+00,   1.25855372e+01,\n",
       "         -1.03975724e+01,  -3.67236626e+00,  -1.82884532e+00,\n",
       "         -5.29017530e+00,  -2.06066392e+00,   2.27726490e+01,\n",
       "         -2.19961132e+02,   3.25081876e+01,   2.14047290e+01,\n",
       "          1.63769084e+01,  -2.69533611e-01,   6.11769837e-01,\n",
       "         -4.23308107e+01,   3.68256274e+01,  -1.43614714e+01,\n",
       "         -1.52304191e+00,  -6.16579118e+00,  -4.96758929e+00,\n",
       "          2.35875475e+01,  -2.41896671e+01,   9.66580812e+00,\n",
       "          1.85444568e+01,  -3.75586865e+01,  -5.20719907e+00,\n",
       "          5.87922661e+00,   1.18771094e+01,   8.32517447e+00,\n",
       "         -6.12563338e+00,  -1.70361603e+01,   1.20094172e+01,\n",
       "         -4.47772743e+00,  -4.65717633e+00,   3.02602313e+01,\n",
       "         -3.48312312e+01,   8.45611999e+00,   2.99374919e+01,\n",
       "         -4.53536025e-01,   7.79101479e+00,  -2.92252014e+00,\n",
       "          7.36866584e+00,   2.06180916e+00,  -2.53707306e+02,\n",
       "         -5.31919772e+00,   2.44578066e+01,  -2.34493684e+00,\n",
       "          1.24355060e+01,  -1.72556361e+01,  -1.44684372e+01,\n",
       "         -9.70725853e+00,  -2.25694972e+00,  -9.18977377e+00,\n",
       "          6.97816854e+00,   1.57721251e+01,   8.35167972e+00,\n",
       "          5.50836351e+00,  -2.11377429e+01,  -1.30343589e+01,\n",
       "         -2.31771119e+01,  -9.48463318e-01,  -1.37818900e+01,\n",
       "         -2.01502576e+01,   4.20091371e+00,   9.91035826e+00,\n",
       "         -1.38157405e+00,  -2.00550958e+01,  -3.00834925e+01,\n",
       "         -2.92075438e+01,   1.27825795e+01,  -1.32898465e+01,\n",
       "          3.74492592e+01,  -7.88365011e+00,  -1.48955864e+00,\n",
       "         -8.83470848e-01,   2.66473099e+01,  -3.25942169e+01,\n",
       "         -4.57112589e+00,   2.77686695e+01,  -4.74336492e-01,\n",
       "         -7.10479722e+00,  -8.28258182e-01,   1.43520337e+01,\n",
       "          6.17986794e+00,  -2.11184197e+01,  -2.78693307e+01,\n",
       "         -1.60265084e+01,   4.69154723e-01,   7.75941107e-01,\n",
       "         -2.80527065e+01,  -1.99906181e+00,  -2.97728268e+00,\n",
       "         -2.01715286e-01,  -2.56108130e+01,  -8.61723600e+00,\n",
       "         -4.86010697e+01,   3.02640986e+01,   1.30036619e+01,\n",
       "          4.06039997e+01,  -2.01821363e+01,  -2.04311130e+01,\n",
       "         -8.66472583e-01,   3.90512567e+01,  -9.45649610e+00,\n",
       "         -4.40031513e+01,  -2.10055648e+01,   1.63423719e+01,\n",
       "          3.31132298e+01,   1.24813803e+01,   4.57259619e+00,\n",
       "          1.25780751e+01,   1.29734332e+01,   7.84671313e+00,\n",
       "         -2.02164580e+01,  -4.98441826e+01,  -1.98171592e+01,\n",
       "         -5.17303918e+01,  -7.25237050e+00,   1.77160006e+01,\n",
       "         -1.91122319e+01,   1.13682174e+01,  -7.92839039e+01,\n",
       "         -6.19258996e+00,   1.66209178e+01,   3.72507128e+00,\n",
       "         -7.63363476e+00,   9.76427941e+00,   7.20440926e-01,\n",
       "          7.88471109e+00,   1.49656975e+01,   2.39256120e+01,\n",
       "          1.53572642e+01,   1.05995705e+01,  -3.44727369e+01,\n",
       "          1.45263575e+01,   2.16546933e+01,   3.20462680e+01,\n",
       "         -2.84093447e+01,  -1.15085854e+01,  -1.06289424e+01,\n",
       "         -1.52634084e+01,  -1.48390902e+01,   2.23037580e+01,\n",
       "          3.00833709e+01,   3.46100008e+00,   1.46349371e+01,\n",
       "          8.86484975e+00,   4.86183935e+01,  -7.57286443e+01,\n",
       "         -1.80535132e+01,  -2.01142791e+01,  -2.43407361e+01,\n",
       "          2.01506460e+01,   8.41017210e+00,  -1.94629325e+01,\n",
       "         -1.24614998e+01,  -1.36433176e+01,   3.02736618e+01,\n",
       "          2.81483070e+01,   2.35701409e+01,  -5.34126447e+00,\n",
       "         -9.90475962e+00,  -1.49363493e+01,   4.31051627e+01,\n",
       "          4.38691845e+01,   1.62073181e+01,   4.63442635e+00,\n",
       "          2.64802814e+01,  -3.17373618e+01,  -1.30813035e+01,\n",
       "          1.25182667e+01,   1.36651971e+02,  -1.29953686e+01,\n",
       "          2.35035929e+01,  -8.42769699e+00,  -1.23127855e+01,\n",
       "         -3.83632256e+01,  -9.58999475e+00,  -1.41603551e+01,\n",
       "          1.30187836e+00,   1.73981977e+01,  -4.14167077e+00,\n",
       "          3.27854610e+01,   2.93582587e+01,   2.16435230e+01,\n",
       "          8.57998700e+00,  -9.57298921e+00,  -7.73840620e+00,\n",
       "         -4.69065763e+01,   2.31697205e+01,  -2.49166530e+01,\n",
       "          3.16991323e+01,  -3.53789388e+01,  -4.70063470e+01,\n",
       "          1.87762552e+01,   1.62033798e+01,   1.40267855e+01,\n",
       "          4.75587922e+00,  -2.79785954e+01,  -1.64499666e+01,\n",
       "         -7.88193786e+00,  -1.34840274e+01,   4.04458755e+01]])"
      ]
     },
     "execution_count": 42,
     "metadata": {},
     "output_type": "execute_result"
    }
   ],
   "source": [
    "index=data.index[data['hashed_id']=='4cee0953']\n",
    "print(index)\n",
    "my_vec = df.iloc[[index.values[0]]]\n",
    "my_vec_df = pd.DataFrame(my_vec, columns=['vector'])\n",
    "my_vec.values[0][0]\n"
   ]
  },
  {
   "cell_type": "code",
   "execution_count": 43,
   "metadata": {},
   "outputs": [
    {
     "name": "stdout",
     "output_type": "stream",
     "text": [
      "[ 617683.45914409]\n",
      "759.86694997\n",
      "827.461437706\n",
      "628760.598888\n",
      "[ 280183.40495]\n",
      "349.494278806\n",
      "827.461437706\n",
      "289193.038411\n",
      "[ 684692.43089062]\n",
      "827.461437706\n",
      "827.461437706\n",
      "684692.430891\n",
      "[ 755828.75886521]\n",
      "933.646255153\n",
      "827.461437706\n",
      "772556.272598\n",
      "[ 1364481.45675451]\n",
      "1681.32604621\n",
      "827.461437706\n",
      "1391232.46745\n",
      "[ 4551.63532095]\n",
      "11.4297699387\n",
      "827.461437706\n",
      "9457.6938661\n",
      "[ 315229.81039104]\n",
      "395.937410908\n",
      "827.461437706\n",
      "327622.939271\n",
      "[ 277741.4806829]\n",
      "347.783349444\n",
      "827.461437706\n",
      "287777.310341\n",
      "[ 228067.49815642]\n",
      "286.763143816\n",
      "827.461437706\n",
      "237285.443263\n",
      "[ 347295.76746538]\n",
      "426.006014546\n",
      "827.461437706\n",
      "352503.549268\n",
      "[ 525332.45522285]\n",
      "654.712944565\n",
      "827.461437706\n",
      "541749.714394\n",
      "[ 540099.79069957]\n",
      "669.923964975\n",
      "827.461437706\n",
      "554336.247212\n",
      "[ 411887.20925867]\n",
      "506.766980516\n",
      "827.461437706\n",
      "419330.13428\n",
      "[ 695271.65464574]\n",
      "857.148062765\n",
      "827.461437706\n",
      "709256.968343\n",
      "[ 698116.05074173]\n",
      "860.810549174\n",
      "827.461437706\n",
      "712287.534612\n",
      "[ 24491.75733672]\n",
      "35.9141622238\n",
      "827.461437706\n",
      "29717.5843077\n",
      "[ 468393.76476264]\n",
      "582.994527819\n",
      "827.461437706\n",
      "482405.490164\n",
      "[ 808712.72800323]\n",
      "998.199910792\n",
      "827.461437706\n",
      "825971.933302\n",
      "[ 765472.14338326]\n",
      "948.680520303\n",
      "827.461437706\n",
      "784996.547253\n",
      "[ 166644.79784528]\n",
      "211.894795985\n",
      "827.461437706\n",
      "175334.772528\n",
      "[ 482103.086077]\n",
      "600.45756577\n",
      "827.461437706\n",
      "496855.480654\n",
      "[ 242936.2113545]\n",
      "303.245730559\n",
      "827.461437706\n",
      "250924.148187\n",
      "[ 408764.20405235]\n",
      "513.243818225\n",
      "827.461437706\n",
      "424689.467722\n",
      "[ 61219.05506236]\n",
      "78.7952723883\n",
      "827.461437706\n",
      "65200.0493749\n",
      "[ 208796.34237789]\n",
      "262.772733569\n",
      "827.461437706\n",
      "217434.303909\n",
      "[ 590716.66992892]\n",
      "741.725364019\n",
      "827.461437706\n",
      "613749.136094\n",
      "[ 291934.94590417]\n",
      "365.707020535\n",
      "827.461437706\n",
      "302608.456991\n",
      "[ 28214.53287043]\n",
      "39.142599054\n",
      "827.461437706\n",
      "32388.9912887\n",
      "[ 225735.77600956]\n",
      "286.094930285\n",
      "827.461437706\n",
      "236732.522334\n",
      "[ 428456.76483641]\n",
      "531.405342676\n",
      "827.461437706\n",
      "439717.428855\n",
      "[ 272004.99564683]\n",
      "339.018305888\n",
      "827.461437706\n",
      "280524.574799\n",
      "[ 1127322.49934191]\n",
      "1391.07693164\n",
      "827.461437706\n",
      "1151062.51782\n",
      "[ 474422.02299285]\n",
      "582.541062501\n",
      "827.461437706\n",
      "482030.2651\n",
      "[ 460053.65458073]\n",
      "574.088440318\n",
      "827.461437706\n",
      "475036.046196\n",
      "[ 399957.66971983]\n",
      "497.30031096\n",
      "827.461437706\n",
      "411496.830278\n",
      "[ 178796.59238846]\n",
      "220.471538577\n",
      "827.461437706\n",
      "182431.696284\n",
      "[ 232873.28290265]\n",
      "291.791186834\n",
      "827.461437706\n",
      "241445.954967\n",
      "[ 63371.50679636]\n",
      "80.9393803703\n",
      "827.461437706\n",
      "66974.2160483\n",
      "[ 18862.42247224]\n",
      "28.4901757801\n",
      "827.461437706\n",
      "23574.5218115\n",
      "[ 218147.28162439]\n",
      "279.767638672\n",
      "827.461437706\n",
      "231496.932519\n",
      "[ 63472.39329457]\n",
      "84.2258826381\n",
      "827.461437706\n",
      "69693.6699397\n",
      "[ 200690.5579731]\n",
      "252.622371588\n",
      "827.461437706\n",
      "209035.270791\n",
      "[ 202222.38521559]\n",
      "250.609502473\n",
      "827.461437706\n",
      "207369.699219\n",
      "[ 44685.94770119]\n",
      "58.7052727817\n",
      "827.461437706\n",
      "48576.3494168\n",
      "[ 337373.63878071]\n",
      "418.816151896\n",
      "827.461437706\n",
      "346554.215182\n"
     ]
    }
   ],
   "source": [
    "distances = df['vectors'].apply(my_distance)\n"
   ]
  },
  {
   "cell_type": "code",
   "execution_count": 44,
   "metadata": {},
   "outputs": [
    {
     "data": {
      "text/plain": [
       "pandas.core.series.Series"
      ]
     },
     "execution_count": 44,
     "metadata": {},
     "output_type": "execute_result"
    }
   ],
   "source": [
    "type(distances)\n"
   ]
  },
  {
   "cell_type": "code",
   "execution_count": 45,
   "metadata": {},
   "outputs": [
    {
     "name": "stdout",
     "output_type": "stream",
     "text": [
      "hashed_id                                             65c57d2c\n",
      "learn        I am hoping to learn more about computer scien...\n",
      "project      I am currently collaborating with a peer to bu...\n",
      "Name: 4, dtype: object\n",
      "hashed_id                                             2dacbc07\n",
      "learn        I'm hoping to get a better understanding of ho...\n",
      "project      *A Python project completed at a previous comp...\n",
      "Name: 11, dtype: object\n",
      "hashed_id                                             19fd3c63\n",
      "learn        Understand common data science algorithms more...\n",
      "project      In my PhD work, I built optical instruments to...\n",
      "Name: 34, dtype: object\n",
      "hashed_id                                             4cee0953\n",
      "learn        I'm hoping to improve my Python programming sk...\n",
      "project      I work in Python and/or R most days as a Data ...\n",
      "Name: 2, dtype: object\n",
      "hashed_id                                             93173a73\n",
      "learn        I think I have alot to learn in this course, b...\n",
      "project      I helped build a simple website with Django th...\n",
      "Name: 14, dtype: object\n"
     ]
    }
   ],
   "source": [
    "sortedDistance= distances.sort_values()\n",
    "farDis = sortedDistance.head(5).index\n",
    "type(data)\n",
    "for index in farDis:\n",
    "    print(data.iloc[index])"
   ]
  },
  {
   "cell_type": "code",
   "execution_count": 46,
   "metadata": {},
   "outputs": [
    {
     "name": "stdout",
     "output_type": "stream",
     "text": [
      "hashed_id                                             4585e17d\n",
      "learn                         Advanced Python for Data Science\n",
      "project      I worked on deep learning project where we use...\n",
      "Name: 42, dtype: object\n",
      "hashed_id                                             322ac11f\n",
      "learn        Learning how to build more robust Data Science...\n",
      "project                                                   ZERO\n",
      "Name: 29, dtype: object\n",
      "hashed_id                                             bc369f45\n",
      "learn        Applying data science concepts in building act...\n",
      "project                                                   ZERO\n",
      "Name: 17, dtype: object\n",
      "hashed_id                                      dcd8a5b8\n",
      "learn        Using python in production and more python\n",
      "project                                            ZERO\n",
      "Name: 40, dtype: object\n",
      "hashed_id    30e95f75\n",
      "learn            ZERO\n",
      "project          ZERO\n",
      "Name: 7, dtype: object\n"
     ]
    }
   ],
   "source": [
    "nearDis= sortedDistance.tail(5).index\n",
    "for index in nearDis:\n",
    "    print(data.iloc[index])"
   ]
  },
  {
   "cell_type": "code",
   "execution_count": 47,
   "metadata": {},
   "outputs": [
    {
     "name": "stdout",
     "output_type": "stream",
     "text": [
      "[ 684692.43089062]\n",
      "827.461437706\n",
      "827.461437706\n",
      "684692.430891\n",
      "[ 1.]\n"
     ]
    }
   ],
   "source": [
    "first_elem = vecs[2]\n",
    "second_elem = my_vec.values[0][0]\n",
    "\n",
    "#print (\"First element : \", type(first_elem) , first_elem)\n",
    "#print (\"Second element : \", type(second_elem) , second_elem)\n",
    "\n",
    "print(cosine_similarity(first_elem, second_elem))\n"
   ]
  },
  {
   "cell_type": "code",
   "execution_count": null,
   "metadata": {},
   "outputs": [],
   "source": []
  }
 ],
 "metadata": {
  "kernelspec": {
   "display_name": "Python [default]",
   "language": "python",
   "name": "python3"
  },
  "language_info": {
   "codemirror_mode": {
    "name": "ipython",
    "version": 3
   },
   "file_extension": ".py",
   "mimetype": "text/x-python",
   "name": "python",
   "nbconvert_exporter": "python",
   "pygments_lexer": "ipython3",
   "version": "3.5.4"
  }
 },
 "nbformat": 4,
 "nbformat_minor": 2
}
